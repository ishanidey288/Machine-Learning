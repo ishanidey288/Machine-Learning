{
  "nbformat": 4,
  "nbformat_minor": 0,
  "metadata": {
    "colab": {
      "provenance": [],
      "authorship_tag": "ABX9TyMUrJ3ln3//ezCTkOOY3y9H",
      "include_colab_link": true
    },
    "kernelspec": {
      "name": "python3",
      "display_name": "Python 3"
    },
    "language_info": {
      "name": "python"
    }
  },
  "cells": [
    {
      "cell_type": "markdown",
      "metadata": {
        "id": "view-in-github",
        "colab_type": "text"
      },
      "source": [
        "<a href=\"https://colab.research.google.com/github/ishanidey288/Machine-Learning/blob/main/Untitled10.ipynb\" target=\"_parent\"><img src=\"https://colab.research.google.com/assets/colab-badge.svg\" alt=\"Open In Colab\"/></a>"
      ]
    },
    {
      "cell_type": "code",
      "execution_count": null,
      "metadata": {
        "id": "lGsHu4dHKFVR"
      },
      "outputs": [],
      "source": [
        "import pandas as pd\n",
        "import numpy as np\n",
        "import matplotlib.pyplot as plt\n",
        "import seaborn as sns\n",
        "\n",
        "from sklearn.model_selection import train_test_split\n",
        "from sklearn.preprocessing import StandardScaler\n",
        "from sklearn.linear_model import LogisticRegression\n",
        "from sklearn.tree import DecisionTreeClassifier\n",
        "from sklearn.ensemble import RandomForestClassifier\n",
        "from sklearn.metrics import classification_report, confusion_matrix, accuracy_score\n"
      ]
    },
    {
      "cell_type": "code",
      "source": [
        "df = pd.read_csv('/content/fraudTest.csv.zip')\n",
        "print(df.head())\n"
      ],
      "metadata": {
        "colab": {
          "base_uri": "https://localhost:8080/"
        },
        "id": "IDa4UoQ0KIrN",
        "outputId": "8d86c193-156f-45bf-d4ba-a32626bb6013"
      },
      "execution_count": null,
      "outputs": [
        {
          "output_type": "stream",
          "name": "stdout",
          "text": [
            "   Unnamed: 0 trans_date_trans_time            cc_num  \\\n",
            "0           0   2020-06-21 12:14:25  2291163933867244   \n",
            "1           1   2020-06-21 12:14:33  3573030041201292   \n",
            "2           2   2020-06-21 12:14:53  3598215285024754   \n",
            "3           3   2020-06-21 12:15:15  3591919803438423   \n",
            "4           4   2020-06-21 12:15:17  3526826139003047   \n",
            "\n",
            "                               merchant        category    amt   first  \\\n",
            "0                 fraud_Kirlin and Sons   personal_care   2.86    Jeff   \n",
            "1                  fraud_Sporer-Keebler   personal_care  29.84  Joanne   \n",
            "2  fraud_Swaniawski, Nitzsche and Welch  health_fitness  41.28  Ashley   \n",
            "3                     fraud_Haley Group        misc_pos  60.05   Brian   \n",
            "4                 fraud_Johnston-Casper          travel   3.19  Nathan   \n",
            "\n",
            "       last gender                       street  ...      lat      long  \\\n",
            "0   Elliott      M            351 Darlene Green  ...  33.9659  -80.9355   \n",
            "1  Williams      F             3638 Marsh Union  ...  40.3207 -110.4360   \n",
            "2     Lopez      F         9333 Valentine Point  ...  40.6729  -73.5365   \n",
            "3  Williams      M  32941 Krystal Mill Apt. 552  ...  28.5697  -80.8191   \n",
            "4    Massey      M     5783 Evan Roads Apt. 465  ...  44.2529  -85.0170   \n",
            "\n",
            "   city_pop                     job         dob  \\\n",
            "0    333497     Mechanical engineer  1968-03-19   \n",
            "1       302  Sales professional, IT  1990-01-17   \n",
            "2     34496       Librarian, public  1970-10-21   \n",
            "3     54767            Set designer  1987-07-25   \n",
            "4      1126      Furniture designer  1955-07-06   \n",
            "\n",
            "                          trans_num   unix_time  merch_lat  merch_long  \\\n",
            "0  2da90c7d74bd46a0caf3777415b3ebd3  1371816865  33.986391  -81.200714   \n",
            "1  324cc204407e99f51b0d6ca0055005e7  1371816873  39.450498 -109.960431   \n",
            "2  c81755dbbbea9d5c77f094348a7579be  1371816893  40.495810  -74.196111   \n",
            "3  2159175b9efe66dc301f149d3d5abf8c  1371816915  28.812398  -80.883061   \n",
            "4  57ff021bd3f328f8738bb535c302a31b  1371816917  44.959148  -85.884734   \n",
            "\n",
            "   is_fraud  \n",
            "0         0  \n",
            "1         0  \n",
            "2         0  \n",
            "3         0  \n",
            "4         0  \n",
            "\n",
            "[5 rows x 23 columns]\n"
          ]
        }
      ]
    },
    {
      "cell_type": "code",
      "source": [
        "print(df.info())\n",
        "print(df['is_fraud'].value_counts())  # 0 = Legit, 1 = Fraud\n",
        "sns.countplot(x='is_fraud', data=df)\n",
        "plt.title('Distribution of Fraudulent vs. Non-Fraudulent Transactions')\n",
        "plt.xlabel('Is Fraudulent')\n",
        "plt.ylabel('Count')\n",
        "plt.show()"
      ],
      "metadata": {
        "colab": {
          "base_uri": "https://localhost:8080/",
          "height": 1000
        },
        "id": "11vSGXxQKLHX",
        "outputId": "e23abd36-8bab-4a02-f928-6fd0577357f4"
      },
      "execution_count": null,
      "outputs": [
        {
          "output_type": "stream",
          "name": "stdout",
          "text": [
            "<class 'pandas.core.frame.DataFrame'>\n",
            "RangeIndex: 555719 entries, 0 to 555718\n",
            "Data columns (total 23 columns):\n",
            " #   Column                 Non-Null Count   Dtype  \n",
            "---  ------                 --------------   -----  \n",
            " 0   Unnamed: 0             555719 non-null  int64  \n",
            " 1   trans_date_trans_time  555719 non-null  object \n",
            " 2   cc_num                 555719 non-null  int64  \n",
            " 3   merchant               555719 non-null  object \n",
            " 4   category               555719 non-null  object \n",
            " 5   amt                    555719 non-null  float64\n",
            " 6   first                  555719 non-null  object \n",
            " 7   last                   555719 non-null  object \n",
            " 8   gender                 555719 non-null  object \n",
            " 9   street                 555719 non-null  object \n",
            " 10  city                   555719 non-null  object \n",
            " 11  state                  555719 non-null  object \n",
            " 12  zip                    555719 non-null  int64  \n",
            " 13  lat                    555719 non-null  float64\n",
            " 14  long                   555719 non-null  float64\n",
            " 15  city_pop               555719 non-null  int64  \n",
            " 16  job                    555719 non-null  object \n",
            " 17  dob                    555719 non-null  object \n",
            " 18  trans_num              555719 non-null  object \n",
            " 19  unix_time              555719 non-null  int64  \n",
            " 20  merch_lat              555719 non-null  float64\n",
            " 21  merch_long             555719 non-null  float64\n",
            " 22  is_fraud               555719 non-null  int64  \n",
            "dtypes: float64(5), int64(6), object(12)\n",
            "memory usage: 97.5+ MB\n",
            "None\n",
            "is_fraud\n",
            "0    553574\n",
            "1      2145\n",
            "Name: count, dtype: int64\n"
          ]
        },
        {
          "output_type": "display_data",
          "data": {
            "text/plain": [
              "<Figure size 640x480 with 1 Axes>"
            ],
            "image/png": "[encoded data removed]"
          },
          "metadata": {}
        }
      ]
    },
    {
      "cell_type": "code",
      "source": [
        "scaler = StandardScaler()\n",
        "df['amt'] = scaler.fit_transform(df[['amt']])"
      ],
      "metadata": {
        "id": "oXhQnmAtKTOj"
      },
      "execution_count": null,
      "outputs": []
    },
    {
      "cell_type": "code",
      "source": [
        "X = df.drop(['is_fraud', 'trans_date_trans_time', 'merchant', 'category', 'first', 'last', 'gender', 'street', 'city', 'state', 'job', 'trans_num', 'dob'], axis=1)\n",
        "y = df['is_fraud']\n",
        "\n",
        "X_train, X_test, y_train, y_test = train_test_split(X, y, test_size=0.2, random_state=42, stratify=y)"
      ],
      "metadata": {
        "id": "e5LCLZJWKVeF"
      },
      "execution_count": null,
      "outputs": []
    },
    {
      "cell_type": "code",
      "source": [
        "lr = LogisticRegression(max_iter=1000)\n",
        "lr.fit(X_train, y_train)\n",
        "y_pred_lr = lr.predict(X_test)\n",
        "\n",
        "print(\"Logistic Regression:\")\n",
        "print(confusion_matrix(y_test, y_pred_lr))\n",
        "print(classification_report(y_test, y_pred_lr))\n"
      ],
      "metadata": {
        "colab": {
          "base_uri": "https://localhost:8080/"
        },
        "id": "bvu1o7SKKYkr",
        "outputId": "c2a25b3a-2ea2-4bb1-d62b-c378f887b3f9"
      },
      "execution_count": null,
      "outputs": [
        {
          "output_type": "stream",
          "name": "stdout",
          "text": [
            "Logistic Regression:\n",
            "[[110715      0]\n",
            " [   429      0]]\n",
            "              precision    recall  f1-score   support\n",
            "\n",
            "           0       1.00      1.00      1.00    110715\n",
            "           1       0.00      0.00      0.00       429\n",
            "\n",
            "    accuracy                           1.00    111144\n",
            "   macro avg       0.50      0.50      0.50    111144\n",
            "weighted avg       0.99      1.00      0.99    111144\n",
            "\n"
          ]
        },
        {
          "output_type": "stream",
          "name": "stderr",
          "text": [
            "/usr/local/lib/python3.11/dist-packages/sklearn/metrics/_classification.py:1565: UndefinedMetricWarning: Precision is ill-defined and being set to 0.0 in labels with no predicted samples. Use `zero_division` parameter to control this behavior.\n",
            "  _warn_prf(average, modifier, f\"{metric.capitalize()} is\", len(result))\n",
            "/usr/local/lib/python3.11/dist-packages/sklearn/metrics/_classification.py:1565: UndefinedMetricWarning: Precision is ill-defined and being set to 0.0 in labels with no predicted samples. Use `zero_division` parameter to control this behavior.\n",
            "  _warn_prf(average, modifier, f\"{metric.capitalize()} is\", len(result))\n",
            "/usr/local/lib/python3.11/dist-packages/sklearn/metrics/_classification.py:1565: UndefinedMetricWarning: Precision is ill-defined and being set to 0.0 in labels with no predicted samples. Use `zero_division` parameter to control this behavior.\n",
            "  _warn_prf(average, modifier, f\"{metric.capitalize()} is\", len(result))\n"
          ]
        }
      ]
    },
    {
      "cell_type": "code",
      "source": [
        "dt = DecisionTreeClassifier(max_depth=6, random_state=42)\n",
        "dt.fit(X_train, y_train)\n",
        "y_pred_dt = dt.predict(X_test)\n",
        "\n",
        "print(\"Decision Tree:\")\n",
        "print(confusion_matrix(y_test, y_pred_dt))\n",
        "print(classification_report(y_test, y_pred_dt))\n"
      ],
      "metadata": {
        "colab": {
          "base_uri": "https://localhost:8080/"
        },
        "id": "ScML_FmNKbDN",
        "outputId": "975a95f9-81f7-42fd-b38e-3c81f8ad190b"
      },
      "execution_count": null,
      "outputs": [
        {
          "output_type": "stream",
          "name": "stdout",
          "text": [
            "Decision Tree:\n",
            "[[110644     71]\n",
            " [   342     87]]\n",
            "              precision    recall  f1-score   support\n",
            "\n",
            "           0       1.00      1.00      1.00    110715\n",
            "           1       0.55      0.20      0.30       429\n",
            "\n",
            "    accuracy                           1.00    111144\n",
            "   macro avg       0.77      0.60      0.65    111144\n",
            "weighted avg       1.00      1.00      1.00    111144\n",
            "\n"
          ]
        }
      ]
    },
    {
      "cell_type": "code",
      "source": [
        "rf = RandomForestClassifier(n_estimators=100, random_state=42)\n",
        "rf.fit(X_train, y_train)\n",
        "y_pred_rf = rf.predict(X_test)\n",
        "\n",
        "print(\"Random Forest:\")\n",
        "print(confusion_matrix(y_test, y_pred_rf))\n",
        "print(classification_report(y_test, y_pred_rf))\n"
      ],
      "metadata": {
        "colab": {
          "base_uri": "https://localhost:8080/"
        },
        "id": "HZtPs1v5KdPL",
        "outputId": "06575ef7-c661-4270-e321-54f50e378630"
      },
      "execution_count": null,
      "outputs": [
        {
          "output_type": "stream",
          "name": "stdout",
          "text": [
            "Random Forest:\n",
            "[[110696     19]\n",
            " [   211    218]]\n",
            "              precision    recall  f1-score   support\n",
            "\n",
            "           0       1.00      1.00      1.00    110715\n",
            "           1       0.92      0.51      0.65       429\n",
            "\n",
            "    accuracy                           1.00    111144\n",
            "   macro avg       0.96      0.75      0.83    111144\n",
            "weighted avg       1.00      1.00      1.00    111144\n",
            "\n"
          ]
        }
      ]
    },
    {
      "cell_type": "code",
      "source": [
        "from imblearn.over_sampling import SMOTE\n",
        "\n",
        "sm = SMOTE(random_state=42)\n",
        "X_resampled, y_resampled = sm.fit_resample(X_train, y_train)\n"
      ],
      "metadata": {
        "id": "ohlSJM_QKmeb"
      },
      "execution_count": null,
      "outputs": []
    },
    {
      "cell_type": "code",
      "metadata": {
        "colab": {
          "base_uri": "https://localhost:8080/"
        },
        "id": "acd067bd",
        "outputId": "0b9e4065-42e2-4329-f4ff-68831d4789d4"
      },
      "source": [
        "# Train and evaluate Logistic Regression on resampled data\n",
        "lr_resampled = LogisticRegression(max_iter=1000)\n",
        "lr_resampled.fit(X_resampled, y_resampled)\n",
        "y_pred_lr_resampled = lr_resampled.predict(X_test)\n",
        "\n",
        "print(\"Logistic Regression with SMOTE:\")\n",
        "print(confusion_matrix(y_test, y_pred_lr_resampled))\n",
        "print(classification_report(y_test, y_pred_lr_resampled))"
      ],
      "execution_count": null,
      "outputs": [
        {
          "output_type": "stream",
          "name": "stdout",
          "text": [
            "Logistic Regression with SMOTE:\n",
            "[[110715      0]\n",
            " [   429      0]]\n",
            "              precision    recall  f1-score   support\n",
            "\n",
            "           0       1.00      1.00      1.00    110715\n",
            "           1       0.00      0.00      0.00       429\n",
            "\n",
            "    accuracy                           1.00    111144\n",
            "   macro avg       0.50      0.50      0.50    111144\n",
            "weighted avg       0.99      1.00      0.99    111144\n",
            "\n"
          ]
        },
        {
          "output_type": "stream",
          "name": "stderr",
          "text": [
            "/usr/local/lib/python3.11/dist-packages/sklearn/metrics/_classification.py:1565: UndefinedMetricWarning: Precision is ill-defined and being set to 0.0 in labels with no predicted samples. Use `zero_division` parameter to control this behavior.\n",
            "  _warn_prf(average, modifier, f\"{metric.capitalize()} is\", len(result))\n",
            "/usr/local/lib/python3.11/dist-packages/sklearn/metrics/_classification.py:1565: UndefinedMetricWarning: Precision is ill-defined and being set to 0.0 in labels with no predicted samples. Use `zero_division` parameter to control this behavior.\n",
            "  _warn_prf(average, modifier, f\"{metric.capitalize()} is\", len(result))\n",
            "/usr/local/lib/python3.11/dist-packages/sklearn/metrics/_classification.py:1565: UndefinedMetricWarning: Precision is ill-defined and being set to 0.0 in labels with no predicted samples. Use `zero_division` parameter to control this behavior.\n",
            "  _warn_prf(average, modifier, f\"{metric.capitalize()} is\", len(result))\n"
          ]
        }
      ]
    },
    {
      "cell_type": "code",
      "metadata": {
        "colab": {
          "base_uri": "https://localhost:8080/"
        },
        "id": "85823dbe",
        "outputId": "cea7edd0-066b-4a64-b42b-320b29d49eb5"
      },
      "source": [
        "# Train and evaluate Decision Tree on resampled data\n",
        "dt_resampled = DecisionTreeClassifier(max_depth=6, random_state=42)\n",
        "dt_resampled.fit(X_resampled, y_resampled)\n",
        "y_pred_dt_resampled = dt_resampled.predict(X_test)\n",
        "\n",
        "print(\"Decision Tree with SMOTE:\")\n",
        "print(confusion_matrix(y_test, y_pred_dt_resampled))\n",
        "print(classification_report(y_test, y_pred_dt_resampled))"
      ],
      "execution_count": null,
      "outputs": [
        {
          "output_type": "stream",
          "name": "stdout",
          "text": [
            "Decision Tree with SMOTE:\n",
            "[[104943   5772]\n",
            " [   110    319]]\n",
            "              precision    recall  f1-score   support\n",
            "\n",
            "           0       1.00      0.95      0.97    110715\n",
            "           1       0.05      0.74      0.10       429\n",
            "\n",
            "    accuracy                           0.95    111144\n",
            "   macro avg       0.53      0.85      0.54    111144\n",
            "weighted avg       1.00      0.95      0.97    111144\n",
            "\n"
          ]
        }
      ]
    },
    {
      "cell_type": "code",
      "metadata": {
        "colab": {
          "base_uri": "https://localhost:8080/"
        },
        "id": "64cd2fa1",
        "outputId": "7eb6a314-42ce-45b2-c3e1-0624a748c0a7"
      },
      "source": [
        "# Train and evaluate Random Forest on resampled data\n",
        "rf_resampled = RandomForestClassifier(n_estimators=100, random_state=42)\n",
        "rf_resampled.fit(X_resampled, y_resampled)\n",
        "y_pred_rf_resampled = rf_resampled.predict(X_test)\n",
        "\n",
        "print(\"Random Forest with SMOTE:\")\n",
        "print(confusion_matrix(y_test, y_pred_rf_resampled))\n",
        "print(classification_report(y_test, y_pred_rf_resampled))"
      ],
      "execution_count": null,
      "outputs": [
        {
          "output_type": "stream",
          "name": "stdout",
          "text": [
            "Random Forest with SMOTE:\n",
            "[[110494    221]\n",
            " [    76    353]]\n",
            "              precision    recall  f1-score   support\n",
            "\n",
            "           0       1.00      1.00      1.00    110715\n",
            "           1       0.61      0.82      0.70       429\n",
            "\n",
            "    accuracy                           1.00    111144\n",
            "   macro avg       0.81      0.91      0.85    111144\n",
            "weighted avg       1.00      1.00      1.00    111144\n",
            "\n"
          ]
        }
      ]
    }
  ]
}